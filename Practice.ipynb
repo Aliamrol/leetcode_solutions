{
 "cells": [
  {
   "cell_type": "code",
   "execution_count": 2,
   "id": "e584ebf5",
   "metadata": {},
   "outputs": [
    {
     "name": "stdout",
     "output_type": "stream",
     "text": [
      "0\n",
      "1\n",
      "2\n",
      "3\n"
     ]
    }
   ],
   "source": [
    "nums = [3,2,2,3]\n",
    "for i in range(len(nums)):\n",
    "    print(i)"
   ]
  },
  {
   "cell_type": "code",
   "execution_count": 11,
   "id": "1278993c",
   "metadata": {},
   "outputs": [
    {
     "data": {
      "text/plain": [
       "2"
      ]
     },
     "execution_count": 11,
     "metadata": {},
     "output_type": "execute_result"
    }
   ],
   "source": [
    "a = nums[nums != 2]\n",
    "a"
   ]
  },
  {
   "cell_type": "code",
   "execution_count": 14,
   "id": "2fb0bdf0",
   "metadata": {},
   "outputs": [
    {
     "data": {
      "text/plain": [
       "False"
      ]
     },
     "execution_count": 14,
     "metadata": {},
     "output_type": "execute_result"
    }
   ],
   "source": [
    "nums[1] != 2"
   ]
  },
  {
   "cell_type": "code",
   "execution_count": 3,
   "id": "914129ec",
   "metadata": {},
   "outputs": [],
   "source": [
    "import numpy as np\n",
    "nums = np.array(nums)"
   ]
  },
  {
   "cell_type": "code",
   "execution_count": 5,
   "id": "2dee89ac",
   "metadata": {},
   "outputs": [
    {
     "data": {
      "text/plain": [
       "array([3, 3])"
      ]
     },
     "execution_count": 5,
     "metadata": {},
     "output_type": "execute_result"
    }
   ],
   "source": [
    "nums = nums[nums != 2]\n",
    "nums"
   ]
  },
  {
   "cell_type": "code",
   "execution_count": null,
   "id": "dd622ea5",
   "metadata": {},
   "outputs": [],
   "source": [
    "nums[:] = [i for i in nums if i != val]\n",
    "        print(len(nums), nums)"
   ]
  },
  {
   "cell_type": "markdown",
   "id": "873c8f9e",
   "metadata": {},
   "source": [
    "# Meduim remove duplicate"
   ]
  },
  {
   "cell_type": "code",
   "execution_count": 35,
   "id": "eb7d3d0d",
   "metadata": {},
   "outputs": [
    {
     "name": "stdout",
     "output_type": "stream",
     "text": [
      "12\n",
      "[1, 1, 2, 2, 3, 3, 4, 4, 5, 5, 6, 6, 4, 5, 5, 5, 6, 6, 6, 6, 6, 6, 6, 6, 6]\n"
     ]
    }
   ],
   "source": [
    "nums = [ 1, 1, 1, 2, 2, 3, 3, 3, 4, 4, 4, 4, 4, 5, 5, 5, 6, 6, 6, 6, 6, 6, 6, 6, 6]\n",
    "# i = 1\n",
    "# j = 0\n",
    "# k = 0\n",
    "# while i < len(nums):\n",
    "#     if nums[i] == nums[i-1]:\n",
    "#         if k == 0:\n",
    "#             print(f'i = {i}')\n",
    "#             print('k=0')\n",
    "#             j += 1\n",
    "#             i += 1\n",
    "#             k = 1\n",
    "#             nums[j] = nums[i-1]\n",
    "#         elif k > 0:\n",
    "#             print(f'i = {i}')\n",
    "#             print('k>0')\n",
    "#             i += 1\n",
    "#     elif nums[i] != nums[i-1]:\n",
    "#             print(f'i = {i}')\n",
    "#             print('Not equal')\n",
    "#             i += 1\n",
    "#             j += 1\n",
    "#             k = 0\n",
    "#             nums[j] = nums[i-1]\n",
    "# print(j+1)\n",
    "j = 0\n",
    "k = False\n",
    "for i in range(1, len(nums)):\n",
    "    if nums[i] == nums[i-1]:\n",
    "          if k is False:\n",
    "               k = True\n",
    "               j += 1\n",
    "               nums[j] = nums[i]\n",
    "    elif nums[i] != nums[i-1]:\n",
    "         k = False\n",
    "         j += 1\n",
    "         nums[j] = nums[i]\n",
    "print(j+1)\n",
    "print(nums)\n",
    "          \n"
   ]
  },
  {
   "cell_type": "code",
   "execution_count": 36,
   "id": "5965f82a",
   "metadata": {},
   "outputs": [
    {
     "name": "stdout",
     "output_type": "stream",
     "text": [
      "0\n",
      "1\n",
      "2\n",
      "3\n",
      "4\n",
      "5\n",
      "6\n",
      "7\n",
      "8\n",
      "9\n",
      "10\n",
      "11\n",
      "12\n",
      "13\n",
      "14\n",
      "15\n",
      "16\n",
      "17\n",
      "18\n",
      "19\n",
      "20\n",
      "21\n",
      "22\n",
      "23\n",
      "24\n"
     ]
    }
   ],
   "source": [
    "for i in range(len(nums)):\n",
    "    print(i)"
   ]
  }
 ],
 "metadata": {
  "kernelspec": {
   "display_name": "algo",
   "language": "python",
   "name": "python3"
  },
  "language_info": {
   "codemirror_mode": {
    "name": "ipython",
    "version": 3
   },
   "file_extension": ".py",
   "mimetype": "text/x-python",
   "name": "python",
   "nbconvert_exporter": "python",
   "pygments_lexer": "ipython3",
   "version": "3.12.9"
  }
 },
 "nbformat": 4,
 "nbformat_minor": 5
}
