{
 "cells": [
  {
   "cell_type": "code",
   "execution_count": 2,
   "id": "e584ebf5",
   "metadata": {},
   "outputs": [
    {
     "name": "stdout",
     "output_type": "stream",
     "text": [
      "0\n",
      "1\n",
      "2\n",
      "3\n"
     ]
    }
   ],
   "source": [
    "nums = [3,2,2,3]\n",
    "for i in range(len(nums)):\n",
    "    print(i)"
   ]
  },
  {
   "cell_type": "code",
   "execution_count": 11,
   "id": "1278993c",
   "metadata": {},
   "outputs": [
    {
     "data": {
      "text/plain": [
       "2"
      ]
     },
     "execution_count": 11,
     "metadata": {},
     "output_type": "execute_result"
    }
   ],
   "source": [
    "a = nums[nums != 2]\n",
    "a"
   ]
  },
  {
   "cell_type": "code",
   "execution_count": 14,
   "id": "2fb0bdf0",
   "metadata": {},
   "outputs": [
    {
     "data": {
      "text/plain": [
       "False"
      ]
     },
     "execution_count": 14,
     "metadata": {},
     "output_type": "execute_result"
    }
   ],
   "source": [
    "nums[1] != 2"
   ]
  },
  {
   "cell_type": "code",
   "execution_count": 3,
   "id": "914129ec",
   "metadata": {},
   "outputs": [],
   "source": [
    "import numpy as np\n",
    "nums = np.array(nums)"
   ]
  },
  {
   "cell_type": "code",
   "execution_count": 5,
   "id": "2dee89ac",
   "metadata": {},
   "outputs": [
    {
     "data": {
      "text/plain": [
       "array([3, 3])"
      ]
     },
     "execution_count": 5,
     "metadata": {},
     "output_type": "execute_result"
    }
   ],
   "source": [
    "nums = nums[nums != 2]\n",
    "nums"
   ]
  },
  {
   "cell_type": "code",
   "execution_count": null,
   "id": "dd622ea5",
   "metadata": {},
   "outputs": [],
   "source": [
    "nums[:] = [i for i in nums if i != val]\n",
    "        print(len(nums), nums)"
   ]
  },
  {
   "cell_type": "markdown",
   "id": "873c8f9e",
   "metadata": {},
   "source": [
    "# Meduim remove duplicate"
   ]
  },
  {
   "cell_type": "code",
   "execution_count": 35,
   "id": "eb7d3d0d",
   "metadata": {},
   "outputs": [
    {
     "name": "stdout",
     "output_type": "stream",
     "text": [
      "12\n",
      "[1, 1, 2, 2, 3, 3, 4, 4, 5, 5, 6, 6, 4, 5, 5, 5, 6, 6, 6, 6, 6, 6, 6, 6, 6]\n"
     ]
    }
   ],
   "source": [
    "nums = [ 1, 1, 1, 2, 2, 3, 3, 3, 4, 4, 4, 4, 4, 5, 5, 5, 6, 6, 6, 6, 6, 6, 6, 6, 6]\n",
    "# i = 1\n",
    "# j = 0\n",
    "# k = 0\n",
    "# while i < len(nums):\n",
    "#     if nums[i] == nums[i-1]:\n",
    "#         if k == 0:\n",
    "#             print(f'i = {i}')\n",
    "#             print('k=0')\n",
    "#             j += 1\n",
    "#             i += 1\n",
    "#             k = 1\n",
    "#             nums[j] = nums[i-1]\n",
    "#         elif k > 0:\n",
    "#             print(f'i = {i}')\n",
    "#             print('k>0')\n",
    "#             i += 1\n",
    "#     elif nums[i] != nums[i-1]:\n",
    "#             print(f'i = {i}')\n",
    "#             print('Not equal')\n",
    "#             i += 1\n",
    "#             j += 1\n",
    "#             k = 0\n",
    "#             nums[j] = nums[i-1]\n",
    "# print(j+1)\n",
    "j = 0\n",
    "k = False\n",
    "for i in range(1, len(nums)):\n",
    "    if nums[i] == nums[i-1]:\n",
    "          if k is False:\n",
    "               k = True\n",
    "               j += 1\n",
    "               nums[j] = nums[i]\n",
    "    elif nums[i] != nums[i-1]:\n",
    "         k = False\n",
    "         j += 1\n",
    "         nums[j] = nums[i]\n",
    "print(j+1)\n",
    "print(nums)\n",
    "          \n"
   ]
  },
  {
   "cell_type": "code",
   "execution_count": 36,
   "id": "5965f82a",
   "metadata": {},
   "outputs": [
    {
     "name": "stdout",
     "output_type": "stream",
     "text": [
      "0\n",
      "1\n",
      "2\n",
      "3\n",
      "4\n",
      "5\n",
      "6\n",
      "7\n",
      "8\n",
      "9\n",
      "10\n",
      "11\n",
      "12\n",
      "13\n",
      "14\n",
      "15\n",
      "16\n",
      "17\n",
      "18\n",
      "19\n",
      "20\n",
      "21\n",
      "22\n",
      "23\n",
      "24\n"
     ]
    }
   ],
   "source": [
    "for i in range(len(nums)):\n",
    "    print(i)"
   ]
  },
  {
   "cell_type": "markdown",
   "id": "03218dd3",
   "metadata": {},
   "source": [
    "# Rotate array"
   ]
  },
  {
   "cell_type": "code",
   "execution_count": 6,
   "id": "019b1aaa",
   "metadata": {},
   "outputs": [
    {
     "name": "stdout",
     "output_type": "stream",
     "text": [
      "[4, 5, 6, 7, 8] [6, 7, 8]\n"
     ]
    }
   ],
   "source": [
    "k = 3\n",
    "a = [1, 2, 3, 4, 5, 6, 7, 8]\n",
    "print(a[k:], a[-k:])"
   ]
  },
  {
   "cell_type": "code",
   "execution_count": null,
   "id": "49a831a0",
   "metadata": {},
   "outputs": [],
   "source": [
    "b = [1,2]\n",
    "b[-3]"
   ]
  },
  {
   "cell_type": "markdown",
   "id": "6d74a777",
   "metadata": {},
   "source": [
    "# Best time to buy and sell stock"
   ]
  },
  {
   "cell_type": "code",
   "execution_count": 13,
   "id": "f3eca573",
   "metadata": {},
   "outputs": [
    {
     "name": "stdout",
     "output_type": "stream",
     "text": [
      "5\n"
     ]
    }
   ],
   "source": [
    "prices=[7,1,5,3,6,4]\n",
    "\n",
    "\n",
    "min = prices[0]\n",
    "max = 0\n",
    "j = 0\n",
    "\n",
    "for i in range(len(prices)):\n",
    "    if prices[i] < min:\n",
    "        min = prices[i]\n",
    "        j = i\n",
    "    if prices[j+1] > min and prices[j+1] > max:\n",
    "        max = prices[j+1]\n",
    "    else:\n",
    "        j += 1\n",
    "\n",
    "print(max - min)\n"
   ]
  },
  {
   "cell_type": "code",
   "execution_count": 2,
   "id": "749601ef",
   "metadata": {},
   "outputs": [
    {
     "name": "stdout",
     "output_type": "stream",
     "text": [
      "1 1\n"
     ]
    }
   ],
   "source": [
    "prices=[7,1,5,3,6,4]\n",
    "prices = [7,6,4,3,1]\n",
    "buy = False\n",
    "low = prices[0]\n",
    "\n",
    "for i in range(len(prices)):\n",
    "    if prices[i] < low:\n",
    "        low = prices[i]\n",
    "        high = prices[i]\n",
    "        buy = True\n",
    "    elif buy == True and prices[i] > high:\n",
    "        high = prices[i]\n",
    "\n",
    "print(high , low)"
   ]
  },
  {
   "cell_type": "code",
   "execution_count": null,
   "id": "36d550d4",
   "metadata": {},
   "outputs": [],
   "source": [
    "buy = False\n",
    "j = 0\n",
    "low = prices[0]\n",
    "high = 0\n",
    "sell = False\n",
    "\n",
    "for i in range(len(prices)):\n",
    "    if prices[i] <= low and i != len(prices) -1:\n",
    "        low = prices[i]\n",
    "        high = prices[i]\n",
    "        buy = True\n",
    "    elif buy == True and prices[i] > high:\n",
    "        high = prices[i]\n",
    "        sell = True\n",
    "if (high - low) != 0 and sell is True:\n",
    "    print()\n",
    "else:\n",
    "    print()"
   ]
  },
  {
   "cell_type": "code",
   "execution_count": 2,
   "id": "0abba6ea",
   "metadata": {},
   "outputs": [
    {
     "name": "stdout",
     "output_type": "stream",
     "text": [
      "5\n"
     ]
    }
   ],
   "source": [
    "prices = [7,1,5,3,6,4]\n",
    "n = len(prices)\n",
    "L = 0\n",
    "R = 1\n",
    "trade = False\n",
    "sell = 0\n",
    "buy = 0\n",
    "while R < n:\n",
    "    if prices[R] - prices[L] < 0 and trade is False:\n",
    "        R += 1\n",
    "        L += 1\n",
    "    elif prices[R] - prices[L] > 0 and trade is False:\n",
    "        buy = prices[L]\n",
    "        sell = prices[R]\n",
    "        trade = True\n",
    "        R += 1\n",
    "    elif prices[R] > sell and trade is True:\n",
    "        sell = prices[R]\n",
    "        R += 1\n",
    "    else:\n",
    "        R += 1\n",
    "\n",
    "print(sell - buy)\n"
   ]
  },
  {
   "cell_type": "code",
   "execution_count": 5,
   "id": "8da1f6e9",
   "metadata": {},
   "outputs": [
    {
     "name": "stdout",
     "output_type": "stream",
     "text": [
      "5\n"
     ]
    }
   ],
   "source": [
    "prices = [7,1,5,3,6,4]\n",
    "\n",
    "maxProfit = 0\n",
    "minPrice = float('inf')\n",
    "for price in prices:\n",
    "    if price < minPrice:\n",
    "        minPrice = price\n",
    "\n",
    "    profit = price - minPrice\n",
    "\n",
    "    if profit > maxProfit:\n",
    "        maxProfit = profit\n",
    "\n",
    "print(maxProfit)"
   ]
  },
  {
   "cell_type": "markdown",
   "id": "ad12a8a7",
   "metadata": {},
   "source": [
    "# Can Jump"
   ]
  },
  {
   "cell_type": "code",
   "execution_count": 2,
   "id": "dd415174",
   "metadata": {},
   "outputs": [
    {
     "data": {
      "text/plain": [
       "False"
      ]
     },
     "execution_count": 2,
     "metadata": {},
     "output_type": "execute_result"
    }
   ],
   "source": [
    "nums = [3,2,1,0,4]\n",
    "\n",
    "farthest = 0\n",
    "for i in range(len(nums)):\n",
    "    if i <= farthest:\n",
    "        farthest = max(farthest, i + nums[i])\n",
    "        a = True\n",
    "    else:\n",
    "        a = False\n",
    "a"
   ]
  },
  {
   "cell_type": "markdown",
   "id": "52311f44",
   "metadata": {},
   "source": [
    "# H-Index"
   ]
  },
  {
   "cell_type": "code",
   "execution_count": 1,
   "id": "a737e75b",
   "metadata": {},
   "outputs": [
    {
     "name": "stdout",
     "output_type": "stream",
     "text": [
      "6\n",
      "5\n",
      "4\n",
      "3\n",
      "2\n",
      "1\n",
      "0\n"
     ]
    }
   ],
   "source": [
    "citations = [3 , 3 , 2 , 4 , 5, 4]\n",
    "n = len(citations)\n",
    "for i in range(n, -1, -1):\n",
    "    print(i)"
   ]
  },
  {
   "cell_type": "code",
   "execution_count": null,
   "id": "eaa6403c",
   "metadata": {},
   "outputs": [
    {
     "name": "stdout",
     "output_type": "stream",
     "text": [
      "4\n",
      "3\n",
      "2\n",
      "1\n",
      "0\n"
     ]
    },
    {
     "data": {
      "text/plain": [
       "[1, 0, 0, 1, 2, 0, 2]"
      ]
     },
     "execution_count": 11,
     "metadata": {},
     "output_type": "execute_result"
    }
   ],
   "source": [
    "citations = [6 , 3 , 0 , 4 , 6, 4]\n",
    "n = len(citations) # n = 6\n",
    "i = 0\n",
    "bucket = [0] * (n+1)\n",
    "while i < n:\n",
    "    if citations[i] >= n:\n",
    "        bucket[n] += 1\n",
    "        i += 1\n",
    "    elif citations[i] < n:\n",
    "        bucket[citations[i]] += 1\n",
    "        i += 1\n",
    "\n",
    "total = 0\n",
    "for j in range(n, -1, -1):\n",
    "    total += bucket[j]\n",
    "    if total >= j:\n",
    "        print(j)"
   ]
  },
  {
   "cell_type": "markdown",
   "id": "b49a61c2",
   "metadata": {},
   "source": [
    "# 283. Product of Array Except Self"
   ]
  },
  {
   "cell_type": "code",
   "execution_count": 1,
   "id": "a6a3ff2c",
   "metadata": {},
   "outputs": [
    {
     "name": "stdout",
     "output_type": "stream",
     "text": [
      "24\n"
     ]
    }
   ],
   "source": [
    "nums = [1, 2, 3, 4]\n",
    "total = 1\n",
    "for num in nums:\n",
    "    total *= num\n",
    "print(total)"
   ]
  },
  {
   "cell_type": "code",
   "execution_count": 42,
   "id": "549378ba",
   "metadata": {},
   "outputs": [
    {
     "data": {
      "text/plain": [
       "[24, 12, 8, 6]"
      ]
     },
     "execution_count": 42,
     "metadata": {},
     "output_type": "execute_result"
    }
   ],
   "source": [
    "prefix = [1] * (len(nums))\n",
    "suffix = [1] * (len(nums))\n",
    "\n",
    "for i in range(1, len(nums)):\n",
    "    prefix[i] = prefix[i-1] * nums[i - 1]\n",
    "\n",
    "for i in range(len(nums)-2 , -1, -1):\n",
    "    suffix[i] = suffix[i +1] * nums[i+1]\n",
    "\n",
    "for i in range(len(prefix)):\n",
    "    prefix[i] *=suffix[i]\n",
    "prefix"
   ]
  },
  {
   "cell_type": "code",
   "execution_count": null,
   "id": "c922836f",
   "metadata": {},
   "outputs": [
    {
     "data": {
      "text/plain": [
       "[1, 2, 24, 1152]"
      ]
     },
     "execution_count": 53,
     "metadata": {},
     "output_type": "execute_result"
    }
   ],
   "source": [
    "n = len(nums)\n",
    "result = [nums[0]] * n\n",
    "suffix = 1\n",
    "\n",
    "for i in range(1, n):\n",
    "    result[i] = (result[i-1] * nums[i])*suffix\n",
    "    suffix *=  nums[n - i]\n",
    "\n",
    "result\n",
    "    \n",
    "# for i in range(len(prefix)):\n",
    "#     prefix[i] *=suffix[i]\n",
    "\n"
   ]
  },
  {
   "cell_type": "markdown",
   "id": "87eee9a4",
   "metadata": {},
   "source": [
    "# 134. Gas Station"
   ]
  },
  {
   "cell_type": "code",
   "execution_count": null,
   "id": "21c34558",
   "metadata": {},
   "outputs": [
    {
     "name": "stdout",
     "output_type": "stream",
     "text": [
      "-1 2\n"
     ]
    }
   ],
   "source": [
    "\n",
    "\n",
    "gas = [2,3,4]\n",
    "cost = [3,4,3]\n",
    "\n",
    "tank = 0\n",
    "i = 1\n",
    "j = 1\n",
    "\n",
    "nS = len(gas)\n",
    "\n",
    "while True :\n",
    "    tank += gas[i] - cost[i]\n",
    "    i += 1\n",
    "    if i >= nS:\n",
    "        i = 0\n",
    "    if i == j :\n",
    "        break\n",
    "\n",
    "    if tank <= 0:\n",
    "        tank = -1\n",
    "        break\n",
    "\n",
    "        \n",
    "\n",
    "print(tank, i)\n",
    "\n"
   ]
  },
  {
   "cell_type": "code",
   "execution_count": null,
   "id": "7efae7a6",
   "metadata": {},
   "outputs": [],
   "source": [
    "gas = [1 ,2 ,3, 4, 5]\n",
    "cost = [3,4,5,1,2]\n",
    "\n",
    "tank = 0\n",
    "i = 3\n",
    "j = 0\n",
    "\n",
    "nS = len(gas)\n",
    "\n",
    "while True :\n",
    "    tank += gas[i] - cost[i]\n",
    "    if tank <= 0:\n",
    "        break\n",
    "    else:\n",
    "        i += 1\n",
    "        if i >= nS and j==0:\n",
    "            i = 0\n",
    "            j += 1\n",
    "        else:\n",
    "            break\n",
    "        \n",
    "\n",
    "print(tank)\n",
    "\n"
   ]
  }
 ],
 "metadata": {
  "kernelspec": {
   "display_name": "algo",
   "language": "python",
   "name": "python3"
  },
  "language_info": {
   "codemirror_mode": {
    "name": "ipython",
    "version": 3
   },
   "file_extension": ".py",
   "mimetype": "text/x-python",
   "name": "python",
   "nbconvert_exporter": "python",
   "pygments_lexer": "ipython3",
   "version": "3.12.9"
  }
 },
 "nbformat": 4,
 "nbformat_minor": 5
}
